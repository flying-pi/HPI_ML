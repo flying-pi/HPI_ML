{
 "cells": [
  {
   "cell_type": "code",
   "execution_count": 31,
   "metadata": {
    "collapsed": true
   },
   "outputs": [
    {
     "name": "stdout",
     "output_type": "stream",
     "text": [
      "Кількість пацієнтів, котра обстежувалась у кожного лікаря підпорядкована рівномірному розподілу\n\n\nДанна послідновність(тиск крові) розподілена нормально\nДанна послідновність(тиск крові) розподілена логонормально\n"
     ]
    }
   ],
   "source": [
    "\"\"\"\n",
    "Перевірка гіпотези про відповідність \u2028розподілу неперервного параметра\u2028деякому закону\n",
    "\"\"\"\n",
    "import numpy as np\n",
    "import scipy\n",
    "from pandas import read_csv\n",
    "from scipy.special import comb\n",
    "from scipy.stats import norm, lognorm\n",
    "\n",
    "data = read_csv('./src/lab2_data2.csv', sep=';')\n",
    "\n",
    "alpha = 0.95\n",
    "\n",
    "doctor_collumn_name = 'DR1'\n",
    "class_count = 4\n",
    "doctors = [data[data[doctor_collumn_name] == i][doctor_collumn_name].count() for i in range(1, 1 + class_count)]\n",
    "total_count = sum(doctors)\n",
    "\n",
    "p = 1.0 / class_count\n",
    "expected = p * total_count\n",
    "\n",
    "#Для даних із табл. Б.2 перевірити гіпотезу про те, що кількість пацієнтів, що обстежувалися в кожного з лікарів, підпорядкована рівномірному закону розподілу.\n",
    "x2 = sum((((s - expected) ** 2) / expected for s in doctors))\n",
    "x2_table = scipy.stats.chi2.ppf(alpha, class_count - 1)\n",
    "\n",
    "H0 = 'Кількість пацієнтів, котра обстежувалась у кожного лікаря підпорядкована рівномірному розподілу'\n",
    "H1 = 'Розподіл пацієнтів, які обстежувались у кожного лікаря не є рівномірним'\n",
    "\n",
    "print(H0 if x2_table < x2 else H1)\n",
    "print('\\n')\n",
    "\n",
    "\n",
    "#Перевірити гіпотези про те, що величина SYST розподілена нормально і логнормально (табл. Б.4)\n",
    "\n",
    "class Search:\n",
    "    data_split_count = 20\n",
    "    alph = 0.95\n",
    "\n",
    "    def __init__(self, data) -> None:\n",
    "        super().__init__()\n",
    "        mean = np.mean(data)\n",
    "        # нормализируем данные\n",
    "        self.data = [x / mean for x in data]\n",
    "        self.total_data_length = len(data)\n",
    "        self.data_split_count = self._get_spkit_count(data)\n",
    "\n",
    "    @staticmethod\n",
    "    def _get_spkit_count(data) -> int:\n",
    "        return int((len(data) * 10) ** (1 / 3))\n",
    "\n",
    "    def is_normal(self) -> bool:\n",
    "        return self._check_for_distribution(norm.pdf)\n",
    "\n",
    "    def is_lognormal(self) -> bool:\n",
    "        return self._check_for_distribution(lambda x: lognorm.pdf(x=x, s=1))\n",
    "\n",
    "    def _check_for_distribution(self, distribution) -> bool:\n",
    "        histogram, borders = np.histogram(self.data, self.data_split_count)\n",
    "        dist = distribution(x=borders)\n",
    "        espect = [self.total_data_length * (dist[i] - dist[i + 1]) for i in range(len(dist) - 1)]\n",
    "        hi_sqr = sum([((espect[i] - histogram[i]) ** 2) / espect[i] for i in range(len(espect))])\n",
    "        tabl_hi = scipy.stats.chi2.ppf(self.alph, self.data_split_count - 1)\n",
    "        return hi_sqr > tabl_hi\n",
    "\n",
    "\n",
    "search = Search(list(data['Syst1']))\n",
    "H0 = 'Данна послідновність(тиск крові) розподілена нормально'\n",
    "H1 = 'Невірно,  що ця послідовність(тиск крові) розподілена нормально'\n",
    "print(H0 if search.is_normal() else H1)\n",
    "\n",
    "H0 = 'Данна послідновність(тиск крові) розподілена логонормально'\n",
    "H1 = 'Невірно,  що ця послідовність(тиск крові) розподілена логонормально'\n",
    "print(H0 if search.is_lognormal() else H1)\n"
   ]
  }
 ],
 "metadata": {
  "kernelspec": {
   "display_name": "Python 2",
   "language": "python",
   "name": "python2"
  },
  "language_info": {
   "codemirror_mode": {
    "name": "ipython",
    "version": 2
   },
   "file_extension": ".py",
   "mimetype": "text/x-python",
   "name": "python",
   "nbconvert_exporter": "python",
   "pygments_lexer": "ipython2",
   "version": "2.7.6"
  }
 },
 "nbformat": 4,
 "nbformat_minor": 0
}
