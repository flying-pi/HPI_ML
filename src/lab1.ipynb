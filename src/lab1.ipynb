{
 "cells": [
  {
   "cell_type": "code",
   "execution_count": 48,
   "metadata": {
    "collapsed": false
   },
   "outputs": [
    {
     "name": "stdout",
     "output_type": "stream",
     "text": [
      "Обсяг вибірки становить 226 осіб, з них тих, хто вижив - 140\n\n\nВикористовуючи біноміальне розподілення справдилась гіпотиза `Кількість померлих менша, аніж тих,  хто вижив`\n\n\nВикористовуючи Z-критерій  справдилась гіпотиза `Кількість померлих менша, аніж тих,  хто вижив`\n\n\nВикористовуючи Хі-квадрта  справдилась гіпотиза `Кількість померлих та тих,  хто лишився живим - неоднакова`\n\n\n"
     ]
    }
   ],
   "source": [
    "import numpy as np\n",
    "import pandas as pd\n",
    "import scipy.integrate as integrate\n",
    "from scipy.special import comb\n",
    "from scipy.stats import stats\n",
    "\n",
    "H0 = 'Кількість померлих та тих,  хто лишився живим - однакова'\n",
    "H1 = 'Кількість померлих менша, аніж тих,  хто вижив'\n",
    "H2 = 'Кількість померлих більша, аніж тих,  хто вижив'\n",
    "H3 = 'Кількість померлих та тих,  хто лишився живим - неоднакова'\n",
    "\n",
    "data = pd.read_csv('./src/lab1_data1.csv', sep=';')['Survival'].to_frame()\n",
    "\n",
    "total_count = int(data.count())\n",
    "survival_count = int(data[data == 1].count())\n",
    "survival_p = np.float(survival_count) / np.float(data.count())\n",
    "p0 = 0.5\n",
    "\n",
    "alpha = 0.1\n",
    "\n",
    "print(f'Обсяг вибірки становить {total_count} осіб, з них тих, хто вижив - {survival_count}\\n\\n')\n",
    "\n",
    "# Загальні фунації\n",
    "def select_h(h_dict, default):\n",
    "    for k, v in binominal_h.items():\n",
    "        if v < alpha:\n",
    "            return k\n",
    "    return H0\n",
    "\n",
    "\n",
    "\n",
    "\n",
    "# Біномінальне розподілення \n",
    "def b(n, i, p):\n",
    "    return comb(n, i) * np.float_power(p, i) * np.float_power(1 - p, n - i)\n",
    "\n",
    "binominal_h = {\n",
    "    H1: np.sum([b(total_count, i, p0) for i in range(survival_count, total_count + 1)]),\n",
    "    H2: np.sum([b(total_count, i, p0) for i in range(0, survival_count + 1)])\n",
    "}\n",
    "binominal_h[H3] = 2 * min(binominal_h[H1], binominal_h[H2])\n",
    "\n",
    "binominal_result = select_h(binominal_h, H0)\n",
    "print(f'Використовуючи біноміальне розподілення справдилась гіпотиза `{binominal_result}`\\n\\n')\n",
    "\n",
    "\n",
    "# розподілення відповідно до Z-критерію \n",
    "def z(p, p0, n):\n",
    "    return (p - p0) / (((p0 * (1 - p0)) / n) ** 0.5)\n",
    "\n",
    "z0 = z(survival_p, p0, total_count)\n",
    "prefix = 1 / ((2 * np.pi) ** 0.5)\n",
    "normal_h = {\n",
    "    H1: prefix * integrate.quad(lambda x: np.exp(-(x * x / 2)), z0, np.PINF)[0],\n",
    "    H2: prefix * integrate.quad(lambda x: np.exp(-(x * x / 2)), np.NINF, z0)[0],\n",
    "    H3: 2 * prefix * integrate.quad(lambda x: np.exp(-(x * x / 2)), np.abs(z0), np.PINF)[0],\n",
    "}\n",
    "z_result = select_h(normal_h, H0)\n",
    "print(f'Використовуючи Z-критерій  справдилась гіпотиза `{binominal_result}`\\n\\n')\n",
    "\n",
    "# розподілення відповідно до крітерію X2\n",
    "x2 = stats.chisquare([survival_count, total_count - survival_count], [total_count / 2, total_count / 2])[1]\n",
    "\n",
    "print(f'Використовуючи Хі-квадрта  справдилась гіпотиза `{H0 if x2 >= (1 - alpha) else H3}`\\n\\n')\n"
   ]
  },
  {
   "cell_type": "code",
   "execution_count": null,
   "metadata": {},
   "outputs": [],
   "source": []
  }
 ],
 "metadata": {
  "kernelspec": {
   "display_name": "Python 3",
   "language": "python",
   "name": "python3"
  },
  "language_info": {
   "codemirror_mode": {
    "name": "ipython",
    "version": 3
   },
   "file_extension": ".py",
   "mimetype": "text/x-python",
   "name": "python",
   "nbconvert_exporter": "python",
   "pygments_lexer": "ipython3",
   "version": "3.6.2"
  }
 },
 "nbformat": 4,
 "nbformat_minor": 1
}
